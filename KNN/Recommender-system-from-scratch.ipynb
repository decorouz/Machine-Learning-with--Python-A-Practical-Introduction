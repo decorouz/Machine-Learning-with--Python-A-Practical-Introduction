{
 "cells": [
  {
   "cell_type": "markdown",
   "id": "000be125",
   "metadata": {},
   "source": [
    "## Recommender System From Scratch\n",
    "\n",
    "\n",
    "**What question are we trying to answer?**\n",
    "Given our movies data set, what are the 5 most similar movies to a movie query?"
   ]
  },
  {
   "cell_type": "code",
   "execution_count": null,
   "id": "fe71d121",
   "metadata": {},
   "outputs": [],
   "source": [
    "from knn_from_scratch import knn, euclidean_distance\n",
    "\n",
    "def recommend_movies(movie_query, k_recommendations):\n",
    "    raw_movies_data = []\n",
    "    with open('movies_recommendation_data.csv', 'r') as md:\n",
    "        # Discard the first line (headings)\n",
    "        next(md)\n",
    "\n",
    "        # Read the data into memory\n",
    "        for line in md.readlines():\n",
    "            data_row = line.strip().split(',')\n",
    "            raw_movies_data.append(data_row)\n",
    "\n",
    "    # Prepare the data for use in the knn algorithm by picking\n",
    "    # the relevant columns and converting the numeric columns\n",
    "    # to numbers since they were read in as strings\n",
    "    movies_recommendation_data = []\n",
    "    for row in raw_movies_data:\n",
    "        data_row = list(map(float, row[2:]))\n",
    "        movies_recommendation_data.append(data_row)\n",
    "\n",
    "    # Use the KNN algorithm to get the 5 movies that are most\n",
    "    # similar to The Post.\n",
    "    recommendation_indices, _ = knn(\n",
    "        movies_recommendation_data, movie_query, k=k_recommendations,\n",
    "        distance_fn=euclidean_distance, choice_fn=lambda x: None\n",
    "    )\n",
    "\n",
    "    movie_recommendations = []\n",
    "    for _, index in recommendation_indices:\n",
    "        movie_recommendations.append(raw_movies_data[index])\n",
    "\n",
    "    return movie_recommendations\n",
    "\n",
    "if __name__ == '__main__':\n",
    "    the_post = [7.2, 1, 1, 0, 0, 0, 0, 1, 0] # feature vector for The Post\n",
    "    recommended_movies = recommend_movies(movie_query=the_post, k_recommendations=5)\n",
    "\n",
    "    # Print recommended movie titles\n",
    "    for recommendation in recommended_movies:\n",
    "        print(recommendation[1])"
   ]
  }
 ],
 "metadata": {
  "kernelspec": {
   "display_name": "Python 3",
   "language": "python",
   "name": "python3"
  },
  "language_info": {
   "codemirror_mode": {
    "name": "ipython",
    "version": 3
   },
   "file_extension": ".py",
   "mimetype": "text/x-python",
   "name": "python",
   "nbconvert_exporter": "python",
   "pygments_lexer": "ipython3",
   "version": "3.9.6"
  }
 },
 "nbformat": 4,
 "nbformat_minor": 5
}
